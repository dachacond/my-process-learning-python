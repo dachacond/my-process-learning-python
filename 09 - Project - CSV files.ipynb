{
 "cells": [
  {
   "cell_type": "markdown",
   "id": "51d1d9f3",
   "metadata": {},
   "source": [
    "# Project - CSV files - Cars\n",
    "### Goal\n",
    "- Learn how to read and process [CSV files](https://en.wikipedia.org/wiki/Comma-separated_values)\n",
    "- Process files/cars.csv and calculate the average horsepower for each car brand"
   ]
  },
  {
   "cell_type": "markdown",
   "id": "4ff0f939",
   "metadata": {},
   "source": [
    "### Description\n",
    "- Process the file files/cars.csv and calculate the average horsepower for each car brand\n",
    "- Step 1: import csv\n",
    "- Step 2: Read CSV file into a list of dictionaries\n",
    "- Step 3: Use a dictionary to have a list of horsepowers for each car brand\n",
    "    - HINT: Car brand is called **Make** in dataset\n",
    "    - HINT: Use .get(car['Make'], []) + [car['Horsepower']]\n",
    "- Step 4: Use a new dictionary to keep the calculated average horsepower we will calculate in a for-loop over the dictionary from Step 3.\n",
    "    - HINT: Use another (nested) for-loop inside the for-loop to sum up the horsepowers."
   ]
  },
  {
   "cell_type": "code",
   "execution_count": 1,
   "id": "d8745c8a",
   "metadata": {},
   "outputs": [],
   "source": [
    "import csv"
   ]
  },
  {
   "cell_type": "code",
   "execution_count": 2,
   "id": "258ce00a",
   "metadata": {},
   "outputs": [],
   "source": [
    "with open('files/cars.csv', 'r') as f: #abrimos el archivo en modo lectura y le asignamos la variable f\n",
    "    csv_reader = csv.DictReader(f) #convertimos cada linea del archivo cxv en un diccionario\n",
    "    cars = list(csv_reader)  #generamos una lista de diccionarios"
   ]
  },
  {
   "cell_type": "code",
   "execution_count": 12,
   "id": "316f067d",
   "metadata": {},
   "outputs": [
    {
     "data": {
      "text/plain": [
       "'250'"
      ]
     },
     "execution_count": 12,
     "metadata": {},
     "output_type": "execute_result"
    }
   ],
   "source": [
    "cars[0]['Horsepower'] #mostramos la posicion 0 de la lista el valor correspondiente a la clave horsepower"
   ]
  },
  {
   "cell_type": "code",
   "execution_count": 57,
   "id": "730ef793",
   "metadata": {
    "scrolled": true
   },
   "outputs": [
    {
     "data": {
      "text/plain": [
       "[250,\n",
       " 200,\n",
       " 200,\n",
       " 200,\n",
       " 200,\n",
       " 265,\n",
       " 265,\n",
       " 350,\n",
       " 280,\n",
       " 211,\n",
       " 211,\n",
       " 265,\n",
       " 200,\n",
       " 200,\n",
       " 200,\n",
       " 211,\n",
       " 211,\n",
       " 211,\n",
       " 211,\n",
       " 211,\n",
       " 211,\n",
       " 211,\n",
       " 211,\n",
       " 211,\n",
       " 211,\n",
       " 211,\n",
       " 211,\n",
       " 211,\n",
       " 211,\n",
       " 211,\n",
       " 211,\n",
       " 265,\n",
       " 211,\n",
       " 310,\n",
       " 300,\n",
       " 350,\n",
       " 300,\n",
       " 350,\n",
       " 300,\n",
       " 300,\n",
       " 310,\n",
       " 372,\n",
       " 372,\n",
       " 350,\n",
       " 350,\n",
       " 211,\n",
       " 270,\n",
       " 211,\n",
       " 270,\n",
       " 270,\n",
       " 270,\n",
       " 333,\n",
       " 280,\n",
       " 225,\n",
       " 333,\n",
       " 272,\n",
       " 225,\n",
       " 280,\n",
       " 225,\n",
       " 350,\n",
       " 225,\n",
       " 420,\n",
       " 525,\n",
       " 430,\n",
       " 525,\n",
       " 525,\n",
       " 420,\n",
       " 420,\n",
       " 525,\n",
       " 333,\n",
       " 333,\n",
       " 333,\n",
       " 354,\n",
       " 354,\n",
       " 354,\n",
       " 354,\n",
       " 354,\n",
       " 354,\n",
       " 435,\n",
       " 435,\n",
       " 430,\n",
       " 525,\n",
       " 211,\n",
       " 372,\n",
       " 372,\n",
       " 500,\n",
       " 360]"
      ]
     },
     "execution_count": 57,
     "metadata": {},
     "output_type": "execute_result"
    }
   ],
   "source": [
    "car_brand ={} #creamos un diccionario vacio para almacenar los datos que necesitamos \n",
    "\n",
    "for car in cars: #recorremos la lista cars con la variable 'car', esta variable se comporta como un diccionario individual de dicha lista\n",
    "    car_brand[car['Make']] = car_brand.get(car['Make'], []) + [int(car['Horsepower'])]\n",
    "\n",
    "#En cada iteración, se accede al valor de la clave \"Make\" en el diccionario \"car\" y \n",
    "#se utiliza como la clave en el diccionario \"car_brand\"\n",
    "\n",
    "#El método .get() se utiliza para obtener el valor de la clave \"Make\" en \"car_brand\" \n",
    "#si existe, o una lista vacía si no existe.\n",
    "\n",
    "#Luego se agrega a esta lista el valor de la clave \"Horsepower\" del diccionario \"car\" mediante + [car['Horsepower']].\n",
    "\n",
    "#En resumen, este código esta recorriendo la lista \"cars\", extrayendo los valores de las claves \"Make\" y \"Horsepower\" \n",
    "#de cada diccionario y agregando esos valores a un nuevo diccionario \"car_brand\" donde las claves son los valores de \n",
    "#\"Make\" y los valores son una lista de los valores de \"Horsepower\" correspondientes.\n",
    "\n",
    "car_brand['Audi'] #aqui vemos la lista de valores correspondiente a la clave 'Audi'\n"
   ]
  },
  {
   "cell_type": "code",
   "execution_count": 58,
   "id": "8b31c8d1",
   "metadata": {
    "scrolled": false
   },
   "outputs": [],
   "source": [
    "#recorremos el diccionario que creamos anteriormente con la variable i, que se comporta como cada clave del diccionario\n",
    "for i in car_brand: \n",
    "    car_brand[i] = sum(car_brand[i])/len(car_brand[i])\n",
    "#finalemnte modificamos el valor de cada una de las claves del diccionario, por el promedio de la lista de valores \n",
    "#que le correpondia"
   ]
  },
  {
   "cell_type": "code",
   "execution_count": 59,
   "id": "6718fbcc",
   "metadata": {},
   "outputs": [
    {
     "name": "stdout",
     "output_type": "stream",
     "text": [
      "Audi: 300.18390804597703\n",
      "Acura: 262.8484848484849\n",
      "BMW: 347.18045112781954\n",
      "Chevrolet: 294.8083067092652\n",
      "Nissan: 269.2142857142857\n",
      "Volvo: 247.24271844660194\n",
      "Bentley: 577.4444444444445\n",
      "Toyota: 253.44923076923078\n",
      "Honda: 188.225\n",
      "Ford: 275.4112769485904\n",
      "Rolls-Royce: 475.0\n",
      "Volkswagen: 192.49612403100775\n",
      "Maybach: 599.8461538461538\n",
      "Lamborghini: 554.8\n",
      "Lexus: 301.61538461538464\n",
      "Hyundai: 207.3031914893617\n",
      "Mercedes: 280.21875\n",
      "BMW Motorrad: 233.6206896551724\n",
      "Kia: 179.74074074074073\n",
      "AMG: 525.9\n",
      "Mazda: 187.14880952380952\n",
      "Mercedes-Benz: 388.42857142857144\n",
      "Mercedes-AMG: 494.8333333333333\n",
      "Mitsubishi: 195.35294117647058\n",
      "Cadillac: 340.98\n",
      "Infiniti: 322.1294117647059\n",
      "Dodge: 303.93461538461537\n",
      "Lincoln: 290.5581395348837\n",
      "GMC: 285.9755434782609\n",
      "Porsche: 376.54901960784315\n",
      "Jeep: 207.60504201680672\n",
      "Subaru: 205.2095238095238\n",
      "Buick: 249.88732394366198\n",
      "Suzuki: 185.13725490196077\n",
      "Saab: 222.54237288135593\n",
      "Aston Martin: 470.0\n",
      "Grand Cherokee: 320.0625\n",
      "Land Rover: 373.85714285714283\n",
      "Chrysler: 246.7\n",
      "Ferrari: 540.0\n",
      "Scion: 156.6153846153846\n",
      "MINI: 160.96774193548387\n",
      "Jaguar: 448.75\n",
      "Chrysler Group LLC: 279.1666666666667\n",
      "Lotus: 231.0\n",
      "Maserati: 422.5\n",
      "Mercury: 205.21428571428572\n"
     ]
    }
   ],
   "source": [
    "for key, value in car_brand.items():\n",
    "    print(f'{key}: {value}') #imprimimos los promedios de potencia de cada marca de vehiculo"
   ]
  },
  {
   "cell_type": "code",
   "execution_count": null,
   "id": "164501bc",
   "metadata": {},
   "outputs": [],
   "source": []
  }
 ],
 "metadata": {
  "kernelspec": {
   "display_name": "Python 3 (ipykernel)",
   "language": "python",
   "name": "python3"
  },
  "language_info": {
   "codemirror_mode": {
    "name": "ipython",
    "version": 3
   },
   "file_extension": ".py",
   "mimetype": "text/x-python",
   "name": "python",
   "nbconvert_exporter": "python",
   "pygments_lexer": "ipython3",
   "version": "3.9.13"
  }
 },
 "nbformat": 4,
 "nbformat_minor": 5
}
