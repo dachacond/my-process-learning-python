{
 "cells": [
  {
   "cell_type": "markdown",
   "id": "9ca3c793",
   "metadata": {},
   "source": [
    "# Project - Math Game and Rock-Paper-Scissor Game\n",
    "### Goal\n",
    "- Create a Math Game\n",
    "- Create a [Rock-Paper-Scissors Game](https://en.wikipedia.org/wiki/Rock_paper_scissors)"
   ]
  },
  {
   "cell_type": "markdown",
   "id": "5b42f459",
   "metadata": {},
   "source": [
    "### Math Game\n",
    "- First, import random\n",
    "- Get a random inteteger from the range 1 to 10 (both inclusive)\n",
    "- Get another random inteteger from the range 1 to 10 (both inclusive)\n",
    "- Prompt the user for what the two integers multiplied is\n",
    "- Print if correct or not. If not corrrect, print the correct answer."
   ]
  },
  {
   "cell_type": "code",
   "execution_count": 4,
   "id": "25ad0935",
   "metadata": {},
   "outputs": [
    {
     "name": "stdout",
     "output_type": "stream",
     "text": [
      "Primer numero: 2\n",
      "segundo numero: 10\n",
      "Cual es el resultado de la multiplicación? 13\n",
      "13\n",
      "incorrecto, la respuesta es 20\n"
     ]
    }
   ],
   "source": [
    "import random\n",
    "\n",
    "r1 = random.randint(0,10)\n",
    "r2 = random.randint(0,10)\n",
    "\n",
    "print(f'Primer numero: {r1}')\n",
    "print(f'segundo numero: {r2}')\n",
    "\n",
    "s1 = r1*r2\n",
    "s = int(input('Cual es el resultado de la multiplicación? '))\n",
    "print(s)\n",
    "\n",
    "if s == s1:\n",
    "    print('es correcto')\n",
    "else:\n",
    "    print(f'incorrecto, la respuesta es {s1}')\n"
   ]
  },
  {
   "cell_type": "markdown",
   "id": "486d8194",
   "metadata": {},
   "source": [
    "### Rock, Paper, Scissors Game\n",
    "\n",
    "![Rock Paper Scissor](img/RockPaperScissors.png \"Rock-Paper-Scissor\")"
   ]
  },
  {
   "cell_type": "code",
   "execution_count": 9,
   "id": "f8b74306",
   "metadata": {},
   "outputs": [
    {
     "name": "stdout",
     "output_type": "stream",
     "text": [
      "Ingrese su jugada piedra-papel-tijera: tijera\n",
      "usuario: tijera\n",
      "computadora: tijera\n",
      "empate\n"
     ]
    }
   ],
   "source": [
    "import random\n",
    "\n",
    "user = (input('Ingrese su jugada piedra-papel-tijera: ')).lower()\n",
    "print(f'usuario: {user}')\n",
    "\n",
    "arr = ['piedra','papel','tijera']\n",
    "pc = random.choice(arr)\n",
    "print(f'computadora: {pc}')\n",
    "\n",
    "if user == pc:\n",
    "    print('empate')\n",
    "elif user == 'piedra' and pc == 'tijera':\n",
    "    print('ganaste')\n",
    "elif user == 'piedra' and pc == 'papel':\n",
    "    print('perdiste')\n",
    "elif user == 'papel' and pc == 'tijera':\n",
    "    print('perdiste')\n",
    "elif user == 'papel' and pc == 'piedra':\n",
    "    print('ganaste')\n",
    "elif user == 'tijera' and pc == 'papel':\n",
    "    print('ganaste')\n",
    "elif user == 'tijera' and pc == 'piedra':\n",
    "    print('perdiste')\n",
    "\n",
    "    \n",
    "\n",
    "        \n",
    "        "
   ]
  }
 ],
 "metadata": {
  "kernelspec": {
   "display_name": "Python 3 (ipykernel)",
   "language": "python",
   "name": "python3"
  },
  "language_info": {
   "codemirror_mode": {
    "name": "ipython",
    "version": 3
   },
   "file_extension": ".py",
   "mimetype": "text/x-python",
   "name": "python",
   "nbconvert_exporter": "python",
   "pygments_lexer": "ipython3",
   "version": "3.9.13"
  }
 },
 "nbformat": 4,
 "nbformat_minor": 5
}
