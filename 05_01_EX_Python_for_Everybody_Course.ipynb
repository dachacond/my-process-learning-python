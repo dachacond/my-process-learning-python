{
  "nbformat": 4,
  "nbformat_minor": 0,
  "metadata": {
    "colab": {
      "provenance": [],
      "authorship_tag": "ABX9TyPPdq6IEF5Ocj1dweaaGZUr",
      "include_colab_link": true
    },
    "kernelspec": {
      "name": "python3",
      "display_name": "Python 3"
    },
    "language_info": {
      "name": "python"
    }
  },
  "cells": [
    {
      "cell_type": "markdown",
      "metadata": {
        "id": "view-in-github",
        "colab_type": "text"
      },
      "source": [
        "<a href=\"https://colab.research.google.com/github/dachacond/my-process-learning-python/blob/main/05_01_EX_Python_for_Everybody_Course.ipynb\" target=\"_parent\"><img src=\"https://colab.research.google.com/assets/colab-badge.svg\" alt=\"Open In Colab\"/></a>"
      ]
    },
    {
      "cell_type": "markdown",
      "source": [
        "Exercise 1: Write a program which repeatedly reads numbers until the user enters “done”. Once “done” is entered, print out the total, count, and average of the numbers. If the user enters anything other than a number, detect their mistake using try and except and print an error message and skip to the next number."
      ],
      "metadata": {
        "id": "H3244qPFXMM7"
      }
    },
    {
      "cell_type": "markdown",
      "source": [
        "![imagen.png](data:image/png;base64,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)\n",
        "\n",
        "\n"
      ],
      "metadata": {
        "id": "47l_V6bmYr0U"
      }
    },
    {
      "cell_type": "code",
      "source": [
        "init = 1\n",
        "suma = 0\n",
        "counter = 0\n",
        "\n",
        "while init:\n",
        "  \n",
        "  user = input(\"Enter a number: \")\n",
        "\n",
        "  try:\n",
        "    suma = suma + int(user)\n",
        "    counter = counter + 1\n",
        "  except ValueError as e:\n",
        "    if user == \"done\":\n",
        "      init = 0\n",
        "      print(suma,counter,suma/counter)\n",
        "    else:\n",
        "      print(\"Invalid input\")\n"
      ],
      "metadata": {
        "colab": {
          "base_uri": "https://localhost:8080/"
        },
        "id": "54uMoSBSZPkR",
        "outputId": "21b9bace-7ca5-4139-90ab-917cb15b16a6"
      },
      "execution_count": 10,
      "outputs": [
        {
          "output_type": "stream",
          "name": "stdout",
          "text": [
            "Enter a number: 4\n",
            "Enter a number: 5\n",
            "Enter a number: bad data\n",
            "Invalid input\n",
            "Enter a number: 7\n",
            "Enter a number: done\n",
            "16 3 5.333333333333333\n"
          ]
        }
      ]
    }
  ]
}