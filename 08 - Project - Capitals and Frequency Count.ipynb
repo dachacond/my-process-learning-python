{
 "cells": [
  {
   "cell_type": "markdown",
   "id": "ce97f2b9",
   "metadata": {},
   "source": [
    "# Project - Capitals and Frequency Count\n",
    "### Goal\n",
    "- Guess a Captial Game\n",
    "- Frequency Count"
   ]
  },
  {
   "cell_type": "markdown",
   "id": "56a036b3",
   "metadata": {},
   "source": [
    "### Description of Guess a Capital Game\n",
    "- Use a dictionary to keep country-capital pairs as key-value.\n",
    "    - {'France': 'Paris', 'Finland': 'Helsinki', 'Sweden': 'Stockholm', 'Denmark': 'Copenhagen'}\n",
    "- Prompt the user 3 times for a capital in a country.\n",
    "- Print the number of correct capitals.\n",
    "- Feel free to print whether answer is correct, and what it is."
   ]
  },
  {
   "cell_type": "code",
   "execution_count": 2,
   "id": "1ad0e627",
   "metadata": {},
   "outputs": [
    {
     "name": "stdout",
     "output_type": "stream",
     "text": [
      "Cual es la capital de Sweden: bogota\n",
      "Cual es la capital de Sweden: stockholm\n",
      "Cual es la capital de France: paris\n"
     ]
    }
   ],
   "source": [
    "import random\n",
    "\n",
    "dick = {'France': 'Paris', 'Finland': 'Helsinki', 'Sweden': 'Stockholm', 'Denmark': 'Copenhagen'}\n",
    "dick2 = {} #creamos un diccionario vacio\n",
    "\n",
    "country = list(dick.keys()) #creamos una lista con los paises del diccionario\n",
    "counter = 0 #inicializamos el contador de preguntas\n",
    "\n",
    "while counter < 3: #mientras el contador sea menor que 3 el codigo se ejecuta\n",
    "    pais = random.choice(country) #elegimos un pais aleatorio de la lista de paises\n",
    "    user = (input(f'Cual es la capital de {pais}: ')).capitalize() #pedimos al usuario que ingrese la capital y le damos formato\n",
    "    dick2[pais] = user #almacenamos la informacion almacenada en el diccionario vacio\n",
    "    counter = counter + 1"
   ]
  },
  {
   "cell_type": "code",
   "execution_count": 3,
   "id": "25759a95",
   "metadata": {},
   "outputs": [
    {
     "name": "stdout",
     "output_type": "stream",
     "text": [
      "Numero de capitales correctas: 2\n"
     ]
    }
   ],
   "source": [
    "correctos = 0 # inicializamos el contador de capitales correctas\n",
    "\n",
    "for key in dick: #recorremos el diccionario original\n",
    "    \n",
    "    if dick.get(key) == dick2.get(key): # si los valores correspondientes a una misma clave en los diccionarios, son iguales, sumamos al contador de capitales correctas\n",
    "        correctos = correctos + 1\n",
    "\n",
    "print(f'Numero de capitales correctas: {correctos}') #mostramos el numero de capitales correctas"
   ]
  },
  {
   "cell_type": "code",
   "execution_count": 7,
   "id": "6626b8e9",
   "metadata": {},
   "outputs": [
    {
     "name": "stdout",
     "output_type": "stream",
     "text": [
      "la capital de Sweden es Stockholm\n",
      "la capital de France es Paris\n"
     ]
    }
   ],
   "source": [
    "lista2 = list(dick2.keys())\n",
    "\n",
    "for i in lista2:\n",
    "    print(f'la capital de {i} es {dick[i]}') #mostramos las respuestas correctas"
   ]
  },
  {
   "cell_type": "markdown",
   "id": "a034c1b5",
   "metadata": {},
   "source": [
    "### Description of Frequency Count\n",
    "- Prompt the user for a line of text\n",
    "- Use a dictionary to make frequency count of the letters.\n",
    "- Print the frequencies"
   ]
  },
  {
   "cell_type": "code",
   "execution_count": 5,
   "id": "9ad7adc0",
   "metadata": {},
   "outputs": [
    {
     "name": "stdout",
     "output_type": "stream",
     "text": [
      "Escribe una linea de texto: gonorrea hijueputa malparido\n",
      "g: 1\n",
      "o: 3\n",
      "n: 1\n",
      "r: 3\n",
      "e: 2\n",
      "a: 4\n",
      " : 2\n",
      "h: 1\n",
      "i: 2\n",
      "j: 1\n",
      "u: 2\n",
      "p: 2\n",
      "t: 1\n",
      "m: 1\n",
      "l: 1\n",
      "d: 1\n"
     ]
    }
   ],
   "source": [
    "text = (input('Escribe una linea de texto: ')).lower()\n",
    "\n",
    "lista = list(text)\n",
    "dick = {}\n",
    "\n",
    "for item in lista: #recorre la lista\n",
    "    dick[item]= dick.get(item,0) + 1 \n",
    "\n",
    "#Si la clave \"item\" no existe en el diccionario, devuelve el valor predeterminado (0) especificado como argumento \n",
    "#opcional del método. Luego se suma 1 al valor actual para contar el número de veces que aparece \"item\" en la lista \n",
    "#\"lista\".\n",
    "\n",
    "for key, value in dick.items():\n",
    "    print(f'{key}: {value}') #imprimimos las frecuencias de cada letra"
   ]
  }
 ],
 "metadata": {
  "kernelspec": {
   "display_name": "Python 3 (ipykernel)",
   "language": "python",
   "name": "python3"
  },
  "language_info": {
   "codemirror_mode": {
    "name": "ipython",
    "version": 3
   },
   "file_extension": ".py",
   "mimetype": "text/x-python",
   "name": "python",
   "nbconvert_exporter": "python",
   "pygments_lexer": "ipython3",
   "version": "3.9.13"
  }
 },
 "nbformat": 4,
 "nbformat_minor": 5
}
