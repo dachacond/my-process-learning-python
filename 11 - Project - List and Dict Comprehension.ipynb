{
 "cells": [
  {
   "cell_type": "markdown",
   "id": "3276e22b",
   "metadata": {},
   "source": [
    "# Project - List and Dict Comprehension\n",
    "### Goal\n",
    "- Learn to use list and dict comprehension"
   ]
  },
  {
   "cell_type": "markdown",
   "id": "0d4077df",
   "metadata": {},
   "source": [
    "### Description\n",
    "- Redo some of our code"
   ]
  },
  {
   "cell_type": "markdown",
   "id": "36849deb",
   "metadata": {},
   "source": [
    "### Encrypt with List Comprehension\n",
    "- Use **encrypt_char** and list comprehension to encrypt a string (\"you are awesome\").\n",
    "- HINT: You can use join(.)"
   ]
  },
  {
   "cell_type": "code",
   "execution_count": 18,
   "id": "97bde0d6",
   "metadata": {},
   "outputs": [],
   "source": [
    "def encrypt_char(char, key):\n",
    "    return chr(ord('A') + (ord(char) - ord('A') + key) % 26)\n"
   ]
  },
  {
   "cell_type": "code",
   "execution_count": 19,
   "id": "cda43d72",
   "metadata": {},
   "outputs": [
    {
     "name": "stdout",
     "output_type": "stream",
     "text": [
      "BRX DUH DZHVRPH\n"
     ]
    }
   ],
   "source": [
    "string = (\"you are awesome\").upper()\n",
    "key = 3\n",
    "cifrado = \"\".join([char if char == ' ' else encrypt_char(char, key) for char in string])\n",
    "print(cifrado)"
   ]
  },
  {
   "cell_type": "code",
   "execution_count": null,
   "id": "5a773b21",
   "metadata": {},
   "outputs": [],
   "source": []
  },
  {
   "cell_type": "markdown",
   "id": "47b478e3",
   "metadata": {},
   "source": [
    "### Decrypt with List Comprehension\n",
    "- Use **decrypt_char** and list comprehension to decrypt the cipher."
   ]
  },
  {
   "cell_type": "code",
   "execution_count": 16,
   "id": "b71ae182",
   "metadata": {},
   "outputs": [],
   "source": [
    "def decrypt_char(char,key):\n",
    "    return encrypt_char(char, 26-key)"
   ]
  },
  {
   "cell_type": "code",
   "execution_count": 20,
   "id": "1f3dacc4",
   "metadata": {},
   "outputs": [
    {
     "name": "stdout",
     "output_type": "stream",
     "text": [
      "YOU ARE AWESOME\n"
     ]
    }
   ],
   "source": [
    "key = 3\n",
    "descifrado = \"\".join([char if char == ' ' else decrypt_char(char, key) for char in cifrado])\n",
    "print(descifrado)"
   ]
  },
  {
   "cell_type": "markdown",
   "id": "7b8f5fcd",
   "metadata": {},
   "source": [
    "### Use Dict Comprehension for Frequency Count\n",
    "- Prompt the user for a line of text.\n",
    "- Use dict comprehension to count the number of occurences of each characerter.\n",
    "- Example: \"aabbccccc\" should give {'a': 2, 'b': 2, 'c': 5}\n",
    "- HINT: using count('a') on a string will return the number of occurences of 'a'."
   ]
  },
  {
   "cell_type": "code",
   "execution_count": 29,
   "id": "87027aa2",
   "metadata": {},
   "outputs": [
    {
     "name": "stdout",
     "output_type": "stream",
     "text": [
      "Escribe una linea de texto: gonorrea malparido gonorrea\n"
     ]
    }
   ],
   "source": [
    "text = (input('Escribe una linea de texto: ')).lower()\n",
    "\n",
    "lista = list(text)\n",
    "dick = {i: lista.count(i) for i in lista}"
   ]
  },
  {
   "cell_type": "code",
   "execution_count": 30,
   "id": "fcbadfd7",
   "metadata": {},
   "outputs": [
    {
     "data": {
      "text/plain": [
       "{'g': 2,\n",
       " 'o': 5,\n",
       " 'n': 2,\n",
       " 'r': 5,\n",
       " 'e': 2,\n",
       " 'a': 4,\n",
       " ' ': 2,\n",
       " 'm': 1,\n",
       " 'l': 1,\n",
       " 'p': 1,\n",
       " 'i': 1,\n",
       " 'd': 1}"
      ]
     },
     "execution_count": 30,
     "metadata": {},
     "output_type": "execute_result"
    }
   ],
   "source": [
    "dick"
   ]
  }
 ],
 "metadata": {
  "kernelspec": {
   "display_name": "Python 3 (ipykernel)",
   "language": "python",
   "name": "python3"
  },
  "language_info": {
   "codemirror_mode": {
    "name": "ipython",
    "version": 3
   },
   "file_extension": ".py",
   "mimetype": "text/x-python",
   "name": "python",
   "nbconvert_exporter": "python",
   "pygments_lexer": "ipython3",
   "version": "3.9.13"
  }
 },
 "nbformat": 4,
 "nbformat_minor": 5
}
