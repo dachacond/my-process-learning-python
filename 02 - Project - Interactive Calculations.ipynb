{
 "cells": [
  {
   "cell_type": "markdown",
   "id": "3f37d85b",
   "metadata": {},
   "source": [
    "# Project - Interactive Calculations\n",
    "### Goal\n",
    "- Multiply two numbers\n",
    "- Days since you were born\n",
    "- Tip calculator"
   ]
  },
  {
   "cell_type": "markdown",
   "id": "1a743a60",
   "metadata": {},
   "source": [
    "### Step 1\n",
    "- Input a value from the user and keep it in variable **a**.\n",
    "- Input another value from the user and keep it in variable **b**.\n",
    "- Print the product of the two values (**a*b**)."
   ]
  },
  {
   "cell_type": "code",
   "execution_count": 2,
   "id": "229ffd0e",
   "metadata": {},
   "outputs": [
    {
     "name": "stdin",
     "output_type": "stream",
     "text": [
      "ingrese el primer numero 2\n",
      "ingrese el segundo numero 3\n"
     ]
    },
    {
     "name": "stdout",
     "output_type": "stream",
     "text": [
      "el resultado es 6.0\n"
     ]
    }
   ],
   "source": [
    "a = float(input('ingrese el primer numero'))\n",
    "b = float(input('ingrese el segundo numero'))\n",
    "r = a*b\n",
    "print(f'el resultado es {r}')"
   ]
  },
  {
   "cell_type": "markdown",
   "id": "7d3973d6",
   "metadata": {},
   "source": [
    "### Step 2\n",
    "- Input how many years the user it.\n",
    "- Convert the years to an integer.\n",
    "- Calculate how many days, hours, minutes, and seconds since the user is born."
   ]
  },
  {
   "cell_type": "code",
   "execution_count": 3,
   "id": "c9f61930",
   "metadata": {},
   "outputs": [
    {
     "name": "stdin",
     "output_type": "stream",
     "text": [
      "enter your age 25\n"
     ]
    },
    {
     "name": "stdout",
     "output_type": "stream",
     "text": [
      "since you were born have passed 9125 days, 219000 hours, 13140000 minutes, 788400000 seconds\n"
     ]
    }
   ],
   "source": [
    "age = int(input('enter your age'))\n",
    "days = age*365\n",
    "hours = days*24\n",
    "minutes = hours*60\n",
    "secods = minutes*60\n",
    "\n",
    "print(f'since you were born have passed {days} days, {hours} hours, {minutes} minutes, {secods} seconds')\n"
   ]
  },
  {
   "cell_type": "markdown",
   "id": "768783ee",
   "metadata": {},
   "source": [
    "### Step 3\n",
    "- Here we will make a tip calculator.\n",
    "- Input the price.\n",
    "- Convert the price to an integer.\n",
    "- Input the percentage the user wants to tip.\n",
    "- Convert the percentage to an integer.\n",
    "- Calculate the tip by the following formula: **tip = price $\\times$ percentage_tip / 100**.\n",
    "- Round the tip to two digits.\n",
    "- Print the the tip.\n",
    "- *BONUS:* Adjust the code to take float input of percentage tip"
   ]
  },
  {
   "cell_type": "code",
   "execution_count": 4,
   "id": "36cedfcb",
   "metadata": {},
   "outputs": [
    {
     "name": "stdin",
     "output_type": "stream",
     "text": [
      "Ingrese enl monto 5\n",
      "Inrese el procentaje de propina 5\n"
     ]
    },
    {
     "name": "stdout",
     "output_type": "stream",
     "text": [
      "La propina es de 0.25\n"
     ]
    }
   ],
   "source": [
    "price = float(input('Ingrese enl monto'))\n",
    "ptip = int(input('Inrese el procentaje de propina'))\n",
    "tip = price*(ptip/100)\n",
    "print(f'La propina es de {tip}')"
   ]
  }
 ],
 "metadata": {
  "kernelspec": {
   "display_name": "Python 3 (ipykernel)",
   "language": "python",
   "name": "python3"
  },
  "language_info": {
   "codemirror_mode": {
    "name": "ipython",
    "version": 3
   },
   "file_extension": ".py",
   "mimetype": "text/x-python",
   "name": "python",
   "nbconvert_exporter": "python",
   "pygments_lexer": "ipython3",
   "version": "3.9.13"
  }
 },
 "nbformat": 4,
 "nbformat_minor": 5
}
