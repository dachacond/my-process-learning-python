{
 "cells": [
  {
   "cell_type": "markdown",
   "id": "72cf73d6",
   "metadata": {},
   "source": [
    "# Project - Input and Output Strings\n",
    "### Goal\n",
    "- Get to know Jupyter Notebook\n",
    "- Execute your first program(s)"
   ]
  },
  {
   "cell_type": "markdown",
   "id": "95fbc61a",
   "metadata": {},
   "source": [
    "### Description\n",
    "- This project is in 3 steps\n",
    "- The purpose is to get comforatble with Jupyter Notebook"
   ]
  },
  {
   "cell_type": "markdown",
   "id": "c31ca959",
   "metadata": {},
   "source": [
    "### Step 1\n",
    "- Make your first print \"Hello, World!\" program\n",
    "- Execute the cell"
   ]
  },
  {
   "cell_type": "code",
   "execution_count": 2,
   "id": "01dd1dd1",
   "metadata": {},
   "outputs": [
    {
     "name": "stdout",
     "output_type": "stream",
     "text": [
      "Hello, World!\n"
     ]
    }
   ],
   "source": [
    "print(\"Hello, World!\")"
   ]
  },
  {
   "cell_type": "markdown",
   "id": "be355774",
   "metadata": {},
   "source": [
    "### Step 2\n",
    "- Use input to get the name from user.\n",
    "- Print *Hello* and the the name of the user"
   ]
  },
  {
   "cell_type": "code",
   "execution_count": 4,
   "id": "bac6a408",
   "metadata": {},
   "outputs": [
    {
     "name": "stdout",
     "output_type": "stream",
     "text": [
      "write your name: daniel\n",
      "Hello Daniel\n"
     ]
    }
   ],
   "source": [
    "name = input('write your name: ')\n",
    "print('hello'.capitalize(),name.capitalize())"
   ]
  },
  {
   "cell_type": "markdown",
   "id": "41179f52",
   "metadata": {},
   "source": [
    "### Step 3\n",
    "- Use input to get the name from user.\n",
    "- Print \"I LIKE CAPITAL LETTER\" and the name capitalized by using **.upper()**"
   ]
  },
  {
   "cell_type": "code",
   "execution_count": 5,
   "id": "f024ca38",
   "metadata": {},
   "outputs": [
    {
     "name": "stdout",
     "output_type": "stream",
     "text": [
      "write your name: daniel\n",
      "I LIKE CAPITAL LETTER DANIEL\n"
     ]
    }
   ],
   "source": [
    "name = input('write your name: ')\n",
    "print(\"I LIKE CAPITAL LETTER\",name.upper())"
   ]
  }
 ],
 "metadata": {
  "kernelspec": {
   "display_name": "Python 3 (ipykernel)",
   "language": "python",
   "name": "python3"
  },
  "language_info": {
   "codemirror_mode": {
    "name": "ipython",
    "version": 3
   },
   "file_extension": ".py",
   "mimetype": "text/x-python",
   "name": "python",
   "nbconvert_exporter": "python",
   "pygments_lexer": "ipython3",
   "version": "3.9.13"
  }
 },
 "nbformat": 4,
 "nbformat_minor": 5
}
