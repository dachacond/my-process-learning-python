{
 "cells": [
  {
   "cell_type": "markdown",
   "id": "9b2b4205",
   "metadata": {},
   "source": [
    "# Project - Object-Oriented Programming - Create a Card Game\n",
    "### Goal\n",
    "- Learn basic Object-Oriented Programming\n",
    "- Create a Simple Card Game"
   ]
  },
  {
   "cell_type": "markdown",
   "id": "0a565a4b",
   "metadata": {},
   "source": [
    "### Classes\n",
    "![Class diagram](img/ClassDiagram.png)"
   ]
  },
  {
   "cell_type": "code",
   "execution_count": 1,
   "id": "3acfdf5b",
   "metadata": {},
   "outputs": [],
   "source": [
    "import random"
   ]
  },
  {
   "cell_type": "code",
   "execution_count": 2,
   "id": "892703b6",
   "metadata": {},
   "outputs": [],
   "source": [
    "class card:\n",
    "    suits = ['\\u2666', '\\u2665', '\\u2663', '\\u2660',]\n",
    "    ranks = [\"2\",\"3\",\"4\",\"5\",\"6\",\"7\",\"8\",\"9\",\"10\",\"J\",\"Q\",\"K\",\"A\"]\n",
    "    \n",
    "    def __init__(self, suit, rank):\n",
    "        self.suit = suit\n",
    "        self.rank = rank\n",
    "    def __str__(self):\n",
    "        return f\"{card.ranks[self.rank]}{card.suits[self.suit]}\"\n",
    "    \n",
    "    def __lt__(self, other):\n",
    "        if self.rank == other.rank:\n",
    "            return self.suit < other.suit\n",
    "        else:\n",
    "            return self.rank < other.rank\n",
    "\n",
    "class Deck:\n",
    "    \n",
    "    def __init__(self):\n",
    "        self.deck = []\n",
    "        for suit in range(4):\n",
    "            for rank in range(13):\n",
    "                self.deck.append(card(suit,rank))\n",
    "        self.shuffle()\n",
    "    \n",
    "    def __len__(self):\n",
    "        return len(self.deck)\n",
    "    \n",
    "    def add_card(self,card):\n",
    "        self.deck.append(card)\n",
    "    \n",
    "    def pop_card(self):\n",
    "        return self.deck.pop()\n",
    "    \n",
    "    def shuffle(self):\n",
    "        random.shuffle(self.deck)\n",
    "\n",
    "class Hand(Deck):\n",
    "    def __init__(self,label):\n",
    "        self.deck = []\n",
    "        self.label = label\n",
    "        self.win_count = 0\n",
    "    \n",
    "    def __str__(self):\n",
    "        return self.label + ': ' + ' '.join([str(card) for card in self.deck])\n",
    "    \n",
    "    def get_label(self):\n",
    "        return self.label\n",
    "    \n",
    "    def get_win_count(self):\n",
    "        return self.win_count\n",
    "    \n",
    "    def round_winner(self):\n",
    "        self.win_count = self.win_count + 1"
   ]
  },
  {
   "cell_type": "markdown",
   "id": "4743dac0",
   "metadata": {},
   "source": [
    "### Card Game\n",
    "- Create a Deck of cards.\n",
    "- Create 4 players (P1, P2, P3, P4)\n",
    "- Divided all cards to 4 players.\n",
    "- Assume you are P1, print the hand of P1.\n",
    "- The game has 13 rounds:\n",
    "    - Each player plays 1 card.\n",
    "    - The player with highest card wins.\n",
    "    - Update the score for the winning hand.\n",
    "    - Print cards played in round and the winner (with winning card).\n",
    "- After the 13 rounds - print score for all players (P1, P2, P3, P4)."
   ]
  },
  {
   "cell_type": "code",
   "execution_count": 3,
   "id": "f054ba82",
   "metadata": {},
   "outputs": [
    {
     "name": "stdout",
     "output_type": "stream",
     "text": [
      "P1: 8♣ 10♥ 4♠ 6♣ 6♠ 7♣ Q♥ 4♥ 8♠ J♣ Q♠ 2♥ 6♦\n",
      "R0: 6♦ 10♦ 10♠ 5♠ Winner: P3 10♠\n",
      "R1: 2♥ 7♠ 8♥ Q♣ Winner: P4 Q♣\n",
      "R2: Q♠ 3♥ 9♦ 2♦ Winner: P1 Q♠\n",
      "R3: J♣ J♥ K♣ 6♥ Winner: P3 K♣\n",
      "R4: 8♠ J♠ 7♦ 9♠ Winner: P2 J♠\n",
      "R5: 4♥ K♥ A♠ 9♣ Winner: P3 A♠\n",
      "R6: Q♥ 4♦ 2♣ 7♥ Winner: P1 Q♥\n",
      "R7: 7♣ A♦ 2♠ A♣ Winner: P4 A♣\n",
      "R8: 6♠ Q♦ 3♦ 10♣ Winner: P2 Q♦\n",
      "R9: 6♣ 5♣ 9♥ 5♦ Winner: P3 9♥\n",
      "R10: 4♠ K♠ 3♣ 4♣ Winner: P2 K♠\n",
      "R11: 10♥ J♦ 8♦ A♥ Winner: P4 A♥\n",
      "R12: 8♣ 5♥ 3♠ K♦ Winner: P4 K♦\n",
      "Score for P1: 2\n",
      "Score for P2: 3\n",
      "Score for P3: 4\n",
      "Score for P4: 4\n"
     ]
    }
   ],
   "source": [
    "deck = Deck()\n",
    "\n",
    "hands = []\n",
    "\n",
    "for i in range(1, 5):\n",
    "    hands.append(Hand(f'P{i}'))\n",
    "\n",
    "while len(deck) > 0:\n",
    "    for hand in hands:\n",
    "        hand.add_card(deck.pop_card())\n",
    "\n",
    "print(hands[0])\n",
    "\n",
    "for i in range(13):\n",
    "    #input()\n",
    "    played_cards =[]\n",
    "    \n",
    "    for hand in hands:\n",
    "        played_cards.append(hand.pop_card())\n",
    "    \n",
    "    winner_card = max(played_cards)\n",
    "    winner_hand = hands[played_cards.index(winner_card)]\n",
    "    winner_hand.round_winner()\n",
    "\n",
    "    \n",
    "    print(f\"R{i}: \" + \" \".join([str(card) for card in played_cards]) + f\" Winner: {winner_hand.get_label()} {str(winner_card)}\")\n",
    "    \n",
    "for hand in hands:\n",
    "    print(f\"Score for {hand.get_label()}: {hand.get_win_count()}\")   "
   ]
  }
 ],
 "metadata": {
  "kernelspec": {
   "display_name": "Python 3 (ipykernel)",
   "language": "python",
   "name": "python3"
  },
  "language_info": {
   "codemirror_mode": {
    "name": "ipython",
    "version": 3
   },
   "file_extension": ".py",
   "mimetype": "text/x-python",
   "name": "python",
   "nbconvert_exporter": "python",
   "pygments_lexer": "ipython3",
   "version": "3.9.13"
  }
 },
 "nbformat": 4,
 "nbformat_minor": 5
}
