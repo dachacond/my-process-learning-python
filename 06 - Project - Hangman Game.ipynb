{
 "cells": [
  {
   "cell_type": "markdown",
   "id": "76b74bcd",
   "metadata": {},
   "source": [
    "# Project - Hangman Game\n",
    "### Goal\n",
    "- Create a [Hangman Game](https://en.wikipedia.org/wiki/Hangman_(game))"
   ]
  },
  {
   "cell_type": "markdown",
   "id": "31455bb9",
   "metadata": {},
   "source": [
    "### Description\n",
    "- The game is as follows.\n",
    "- Computer has a list of words.\n",
    "- Computer chooses a random word from the list.\n",
    "- The player gets 10 wrong guesses (10 turns).\n",
    "- The game follows this loop\n",
    "    - Computer prints the word character by character replacing with underscore those not guessed yet (initial no characters has been guessed).\n",
    "    - Player guesses a character.\n",
    "    - If character is not in word, a turn is withdrawn\n",
    "    - If no turns left, computer wins.\n",
    "    - If player has guessed all characters, player wins\n",
    "- An initial word list could be: ['father', 'enterprise', 'science', 'programming', 'resistance', 'fiction', 'condition', 'reverse', 'computer', 'python']"
   ]
  },
  {
   "cell_type": "code",
   "execution_count": 2,
   "id": "c090b787",
   "metadata": {},
   "outputs": [],
   "source": [
    "words = ['father', 'enterprise', 'science', 'programming', 'resistance', 'fiction', 'condition', 'reverse', 'computer', 'python']\n"
   ]
  },
  {
   "cell_type": "code",
   "execution_count": 21,
   "id": "d74d413d",
   "metadata": {},
   "outputs": [
    {
     "name": "stdout",
     "output_type": "stream",
     "text": [
      "El juego consiste en adivinar 10 palabras\n",
      "La palabra tiene esta forma: _________\n"
     ]
    },
    {
     "name": "stdin",
     "output_type": "stream",
     "text": [
      "Ingrese la letra:  d\n"
     ]
    },
    {
     "name": "stdout",
     "output_type": "stream",
     "text": [
      "La letra esta en el string\n",
      "___d_____\n"
     ]
    },
    {
     "name": "stdin",
     "output_type": "stream",
     "text": [
      "Ingrese la letra:  c\n"
     ]
    },
    {
     "name": "stdout",
     "output_type": "stream",
     "text": [
      "La letra esta en el string\n",
      "c__d_____\n"
     ]
    },
    {
     "name": "stdin",
     "output_type": "stream",
     "text": [
      "Ingrese la letra:  o\n"
     ]
    },
    {
     "name": "stdout",
     "output_type": "stream",
     "text": [
      "La letra esta en el string\n",
      "co_d___o_\n"
     ]
    },
    {
     "name": "stdin",
     "output_type": "stream",
     "text": [
      "Ingrese la letra:  n\n"
     ]
    },
    {
     "name": "stdout",
     "output_type": "stream",
     "text": [
      "La letra esta en el string\n",
      "cond___on\n"
     ]
    },
    {
     "name": "stdin",
     "output_type": "stream",
     "text": [
      "Ingrese la letra:  iti\n"
     ]
    },
    {
     "name": "stdout",
     "output_type": "stream",
     "text": [
      "La letra esta en el string\n",
      "cond___on\n"
     ]
    },
    {
     "name": "stdin",
     "output_type": "stream",
     "text": [
      "Ingrese la letra:  i\n"
     ]
    },
    {
     "name": "stdout",
     "output_type": "stream",
     "text": [
      "La letra esta en el string\n",
      "condi_ion\n"
     ]
    },
    {
     "name": "stdin",
     "output_type": "stream",
     "text": [
      "Ingrese la letra:  t\n"
     ]
    },
    {
     "name": "stdout",
     "output_type": "stream",
     "text": [
      "La letra esta en el string\n",
      "condition\n",
      "ganaste\n",
      "Fin del juego\n"
     ]
    }
   ],
   "source": [
    "import random\n",
    "\n",
    "value = 0\n",
    "print('El juego consiste en adivinar la palabra')  \n",
    "word = random.choice(words)\n",
    "nuevo_string = word.replace(word,\"_\"*len(word))\n",
    "      \n",
    "print(f'La palabra tiene esta forma: {nuevo_string}')\n",
    "  \n",
    "\n",
    "\n",
    "while value < 10:\n",
    "    \n",
    "    user = (input('Ingrese la letra: ')).lower()\n",
    "    \n",
    "    if user in word:\n",
    "        \n",
    "        print(\"La letra esta en el string\")\n",
    "        posiciones = [i for i, x in enumerate(word) if x == user]\n",
    "        \n",
    "        for posicion in posiciones:\n",
    "            nuevo_string = nuevo_string[:posicion] + user + nuevo_string[posicion+1:]\n",
    "        \n",
    "        print(f'{nuevo_string}')\n",
    "        \n",
    "        if nuevo_string == word:\n",
    "            print('ganaste')\n",
    "            value = 10\n",
    "        \n",
    "    else:\n",
    "        print(\"La letra no esta en el string\")\n",
    "          \n",
    "    value = value + 1\n",
    "    \n",
    "if value == 10:\n",
    "    print('Perdiste, se acabaron los intentos')\n",
    "\n",
    "print('Fin del juego')"
   ]
  }
 ],
 "metadata": {
  "kernelspec": {
   "display_name": "Python 3 (ipykernel)",
   "language": "python",
   "name": "python3"
  },
  "language_info": {
   "codemirror_mode": {
    "name": "ipython",
    "version": 3
   },
   "file_extension": ".py",
   "mimetype": "text/x-python",
   "name": "python",
   "nbconvert_exporter": "python",
   "pygments_lexer": "ipython3",
   "version": "3.9.13"
  }
 },
 "nbformat": 4,
 "nbformat_minor": 5
}
