{
 "cells": [
  {
   "cell_type": "markdown",
   "id": "abc97da6",
   "metadata": {},
   "source": [
    "# Project - Car Ensurance\n",
    "### Goal\n",
    "- Car ensurance calculation based on the following decision tree"
   ]
  },
  {
   "cell_type": "markdown",
   "id": "815358e1",
   "metadata": {},
   "source": [
    "![alt text](img/DecisionTree.png \"Title\")"
   ]
  },
  {
   "cell_type": "markdown",
   "id": "e22be264",
   "metadata": {},
   "source": [
    "### Description\n",
    "- This is a fictional car insurance company called Car Crash\n",
    "- They calculate the yearly ensurance price based on the current market price of the car\n",
    "- Given the market price: market_price\n",
    "- Then the yearly ensurance price is 9% of the market_price if it is a male above 26 years old.\n",
    "- As we see in the decision tree, we have 4 possible price calculations.\n",
    "- Create a program, which takes input and based on that calculated the correct price for all 4 cases"
   ]
  },
  {
   "cell_type": "code",
   "execution_count": 10,
   "id": "cf8ec9e0",
   "metadata": {},
   "outputs": [
    {
     "name": "stdin",
     "output_type": "stream",
     "text": [
      "Enter the current market price of the car 100\n",
      "Enter your gender, \"M\" for male,  \"F\" for female f\n",
      "Do you practice sports? yes\n"
     ]
    },
    {
     "name": "stdout",
     "output_type": "stream",
     "text": [
      "The value of your insurance is 21.0\n"
     ]
    }
   ],
   "source": [
    "market_price = float(input('Enter the current market price of the car'))\n",
    "gender = (input('Enter your gender, \"M\" for male,  \"F\" for female')).upper()\n",
    "\n",
    "if gender == 'M':\n",
    "    age = int(input('Enter your age'))\n",
    "    if age > 26:\n",
    "        ensurance_price = market_price*0.09\n",
    "        print(f'The value of your insurance is {ensurance_price}')\n",
    "    elif age <= 26:\n",
    "        ensurance_price = market_price*0.23\n",
    "        print(f'The value of your insurance is {ensurance_price}')\n",
    "elif gender == 'F':\n",
    "    sports = (input('Do you practice sports?')).upper()\n",
    "    if sports == 'YES':\n",
    "        ensurance_price = market_price*0.21\n",
    "        print(f'The value of your insurance is {ensurance_price}')\n",
    "    elif sports == 'NO':\n",
    "        ensurance_price = market_price*0.1\n",
    "        print(f'The value of your insurance is {ensurance_price}')\n",
    "else:\n",
    "    print('enter a valid data')\n",
    "    \n",
    "\n"
   ]
  }
 ],
 "metadata": {
  "kernelspec": {
   "display_name": "Python 3 (ipykernel)",
   "language": "python",
   "name": "python3"
  },
  "language_info": {
   "codemirror_mode": {
    "name": "ipython",
    "version": 3
   },
   "file_extension": ".py",
   "mimetype": "text/x-python",
   "name": "python",
   "nbconvert_exporter": "python",
   "pygments_lexer": "ipython3",
   "version": "3.9.13"
  }
 },
 "nbformat": 4,
 "nbformat_minor": 5
}
