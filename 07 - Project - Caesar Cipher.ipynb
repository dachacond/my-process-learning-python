{
 "cells": [
  {
   "cell_type": "markdown",
   "id": "0c48523b",
   "metadata": {},
   "source": [
    "# Project - Caesar Cipher\n",
    "### Goal\n",
    "- Create [Caesar Cipher](https://en.wikipedia.org/wiki/Caesar_cipher) encryption and decryption functionality"
   ]
  },
  {
   "cell_type": "markdown",
   "id": "b34acc14",
   "metadata": {},
   "source": [
    "### Description\n",
    "- The Caesar Cipher is a simple substitution cipher, which is limited to only shift the characters by fixed number.\n",
    "- Let's take an example\n",
    "    - Imagine you got the message: BRX DUH DZHVRPH. What to make out of it. Makes no sense.\n",
    "    - But what if we get help from this diagram\n",
    "    \n",
    "![Caesar Cipher](img/CaesarCipher.png)"
   ]
  },
  {
   "cell_type": "markdown",
   "id": "c64e8e29",
   "metadata": {},
   "source": [
    "### Project\n",
    "- Implement helper function **encrypt_char(char, key)** to encrypt a single character, **char**, with **key**.\n",
    "    - It can be helpful to use **ord()**, **chr()** and **%**.\n",
    "    - Calculation can be a bit tricky.\n",
    "- Implement **encrypt_message(message, key)**, it should use the helper function.\n",
    "- Implement similar functions for decrypt."
   ]
  },
  {
   "cell_type": "code",
   "execution_count": 1,
   "id": "1220b64e",
   "metadata": {},
   "outputs": [
    {
     "name": "stdout",
     "output_type": "stream",
     "text": [
      "BRX DUH DZHVRPH\n"
     ]
    }
   ],
   "source": [
    "def encrypt_message(message, key):\n",
    "    cifrado = \"\" #se crea una variable para ir alamacenando el texto encryptado\n",
    "    \n",
    "    for letra in message: #se recorre el texto letra por letra\n",
    "        if letra.isalpha():\n",
    "            letra = letra.upper()\n",
    "            posicion = ord(letra) + key\n",
    "            \n",
    "            if posicion > 90:\n",
    "                posicion = posicion - 26 \n",
    "            \n",
    "            cifrado = cifrado + chr(posicion)\n",
    "        else:\n",
    "            cifrado = cifrado + letra\n",
    "    \n",
    "    print(cifrado)\n",
    "    \n",
    "encrypt_message('you are awesome',3)"
   ]
  },
  {
   "cell_type": "code",
   "execution_count": 2,
   "id": "f863e116",
   "metadata": {},
   "outputs": [
    {
     "name": "stdout",
     "output_type": "stream",
     "text": [
      "YOU ARE AWESOME\n"
     ]
    }
   ],
   "source": [
    "def decrypt_message(cifrado, key):\n",
    "    \n",
    "    descifrado = ''\n",
    "    \n",
    "    for letra in cifrado:\n",
    "        \n",
    "        if letra.isalpha():\n",
    "            \n",
    "            letra = letra.upper()\n",
    "            posicion = ord(letra) - key\n",
    "            \n",
    "            if posicion < 65:\n",
    "                posicion = posicion + 26 \n",
    "            \n",
    "            descifrado = descifrado + chr(posicion)\n",
    "        else:\n",
    "            descifrado = descifrado + letra\n",
    "    \n",
    "    print(descifrado)\n",
    "\n",
    "decrypt_message('BRX DUH DZHVRPH',3)"
   ]
  },
  {
   "cell_type": "code",
   "execution_count": 4,
   "id": "c43624aa",
   "metadata": {},
   "outputs": [
    {
     "name": "stdout",
     "output_type": "stream",
     "text": [
      "1: para encriptar 2: para desencriptar1\n",
      "escriba el mensaje a encriptar: you are awesome\n",
      "BRX DUH DZHVRPH\n"
     ]
    }
   ],
   "source": [
    "opcion = int(input('1: para encriptar 2: para desencriptar: '))\n",
    "\n",
    "if opcion == 1:\n",
    "    mensaje = input('escriba el mensaje a encriptar: ')\n",
    "    encrypt_message(mensaje,3)\n",
    "elif opcion == 2:\n",
    "    mensaje = input('escriba el mensaje a desencriptar: ')\n",
    "    decrypt_message(mensaje,3)\n",
    "else:\n",
    "    print('Opcion invalida')\n",
    "    "
   ]
  },
  {
   "cell_type": "code",
   "execution_count": null,
   "id": "34ad030d",
   "metadata": {},
   "outputs": [],
   "source": []
  },
  {
   "cell_type": "code",
   "execution_count": null,
   "id": "a5eb3ea0",
   "metadata": {},
   "outputs": [],
   "source": []
  },
  {
   "cell_type": "code",
   "execution_count": null,
   "id": "87d7c48b",
   "metadata": {},
   "outputs": [],
   "source": []
  },
  {
   "cell_type": "code",
   "execution_count": null,
   "id": "d9477c8d",
   "metadata": {},
   "outputs": [],
   "source": []
  },
  {
   "cell_type": "code",
   "execution_count": null,
   "id": "4071e308",
   "metadata": {},
   "outputs": [],
   "source": []
  }
 ],
 "metadata": {
  "kernelspec": {
   "display_name": "Python 3 (ipykernel)",
   "language": "python",
   "name": "python3"
  },
  "language_info": {
   "codemirror_mode": {
    "name": "ipython",
    "version": 3
   },
   "file_extension": ".py",
   "mimetype": "text/x-python",
   "name": "python",
   "nbconvert_exporter": "python",
   "pygments_lexer": "ipython3",
   "version": "3.9.13"
  }
 },
 "nbformat": 4,
 "nbformat_minor": 5
}
